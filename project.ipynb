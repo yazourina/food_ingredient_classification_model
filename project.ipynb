{
 "cells": [
  {
   "cell_type": "markdown",
   "id": "caa8b77d",
   "metadata": {},
   "source": [
    "# Food ingredient classification model\n",
    "\n",
    "# Done By: Yousef. A. Alyazouri"
   ]
  },
  {
   "cell_type": "markdown",
   "id": "2cb56856",
   "metadata": {},
   "source": [
    "# 0.Introduction\n",
    "\n",
    "### In this project, I have made a ptyorch classification model for predicting up to 51 kind of fruits and vegetables using postman API as an input method\n",
    "\n",
    "<center><img src=\"https://domf5oio6qrcr.cloudfront.net/medialibrary/11499/3b360279-8b43-40f3-9b11-604749128187.jpg\" alt=\"Drug Picture\" width=\"1280\" height=\"720\"></center><br>"
   ]
  },
  {
   "cell_type": "markdown",
   "id": "655b2b64",
   "metadata": {},
   "source": [
    "### 🔧 Step 1: Import Required Libraries\n",
    "We import PyTorch, TorchVision, and image-related libraries. \n",
    "`Flask` is only needed if we run this as an API, not in the notebook."
   ]
  },
  {
   "cell_type": "code",
   "execution_count": null,
   "id": "167caeb3",
   "metadata": {},
   "outputs": [],
   "source": [
    "from flask import Flask, request, jsonify\n",
    "import torch\n",
    "from torchvision import models, transforms\n",
    "from PIL import Image"
   ]
  },
  {
   "cell_type": "code",
   "execution_count": null,
   "id": "1b609d91",
   "metadata": {},
   "outputs": [],
   "source": [
    "app = Flask(__name__)"
   ]
  },
  {
   "cell_type": "markdown",
   "id": "bfbd84a3",
   "metadata": {},
   "source": [
    "### 🧠 Step 2: Load the Pretrained Model\n",
    "We use a ResNet-50 architecture and modify the final layer to classify 51 categories. \n",
    "The model is loaded to the appropriate device (CPU or GPU).\n"
   ]
  },
  {
   "cell_type": "code",
   "execution_count": null,
   "id": "c7dedcdc",
   "metadata": {},
   "outputs": [],
   "source": [
    "device = torch.device(\"cuda\" if torch.cuda.is_available() else \"cpu\")\n",
    "\n",
    "model = models.resnet50(pretrained=False)\n",
    "num_ftrs = model.fc.in_features\n",
    "model.fc = torch.nn.Linear(num_ftrs, 51)  # For 51 fruit/vegetable classes\n",
    "\n",
    "model.load_state_dict(torch.load(\"fruits_vegetables_51.pth\", map_location=device))\n",
    "model.to(device)\n",
    "model.eval()\n"
   ]
  },
  {
   "cell_type": "markdown",
   "id": "4205eb06",
   "metadata": {},
   "source": [
    "### 🏷️ Step 3: Class Names\n",
    "This list maps the model's output index to actual fruit/vegetable names.\n"
   ]
  },
  {
   "cell_type": "code",
   "execution_count": null,
   "id": "33b53a03",
   "metadata": {},
   "outputs": [],
   "source": [
    "class_names = [\n",
    "    'Amaranth', 'Apple', 'Banana', 'Beetroot', 'Bell pepper', 'Bitter Gourd',\n",
    "    'Blueberry', 'Bottle Gourd', 'Broccoli', 'Cabbage', 'Cantaloupe', 'Capsicum',\n",
    "    'Carrot', 'Cauliflower', 'Chilli pepper', 'Coconut', 'Corn', 'Cucumber',\n",
    "    'Dragon_fruit', 'Eggplant', 'Fig', 'Garlic', 'Ginger', 'Grapes', 'Jalepeno',\n",
    "    'Kiwi', 'Lemon', 'Mango', 'Okra', 'Onion', 'Orange', 'Paprika', 'Pear', 'Peas',\n",
    "    'Pineapple', 'Pomegranate', 'Potato', 'Pumpkin', 'Raddish', 'Raspberry',\n",
    "    'Ridge Gourd', 'Soy beans', 'Spinach', 'Spiny Gourd', 'Sponge Gourd',\n",
    "    'Strawberry', 'Sweetcorn', 'Sweetpotato', 'Tomato', 'Turnip', 'Watermelon'\n",
    "]\n"
   ]
  },
  {
   "cell_type": "markdown",
   "id": "145c4aee",
   "metadata": {},
   "source": [
    "### 🖌️ Step 4: Define Image Preprocessing\n",
    "We resize, convert to tensor, and normalize the image using standard ImageNet values.\n"
   ]
  },
  {
   "cell_type": "code",
   "execution_count": null,
   "id": "d8864866",
   "metadata": {},
   "outputs": [],
   "source": [
    "data_transforms = transforms.Compose([\n",
    "    transforms.Resize([224, 224]),\n",
    "    transforms.ToTensor(),\n",
    "    transforms.Normalize([0.485, 0.456, 0.406],\n",
    "                         [0.229, 0.224, 0.225])\n",
    "])\n"
   ]
  },
  {
   "cell_type": "markdown",
   "id": "9ce54f5a",
   "metadata": {},
   "source": [
    "### 🖼️ Step 5: Preparing API for uploading on Postman\n",
    "Load an image in postman using the resulted API\n"
   ]
  },
  {
   "cell_type": "code",
   "execution_count": null,
   "id": "43e132da",
   "metadata": {},
   "outputs": [],
   "source": [
    "@app.route('/predict', methods=['POST'])\n",
    "def predict():\n",
    "    if 'file' not in request.files:\n",
    "        return jsonify({'error': 'No file provided'}), 400\n",
    "\n",
    "    file = request.files['file']\n",
    "    img = Image.open(file.stream)\n",
    "    img = data_transforms(img).unsqueeze(0).to(device)\n",
    "\n",
    "    with torch.no_grad():\n",
    "        outputs = model(img)\n",
    "        _, preds = torch.max(outputs, 1)\n",
    "        prediction = class_names[preds[0]]\n",
    "\n",
    "    return jsonify({'prediction': prediction})\n",
    "\n",
    "if __name__ == '__main__':\n",
    "    app.run(debug=True)"
   ]
  }
 ],
 "metadata": {
  "kernelspec": {
   "display_name": "Python 3",
   "language": "python",
   "name": "python3"
  },
  "language_info": {
   "codemirror_mode": {
    "name": "ipython",
    "version": 3
   },
   "file_extension": ".py",
   "mimetype": "text/x-python",
   "name": "python",
   "nbconvert_exporter": "python",
   "pygments_lexer": "ipython3",
   "version": "3.11.9"
  }
 },
 "nbformat": 4,
 "nbformat_minor": 5
}
